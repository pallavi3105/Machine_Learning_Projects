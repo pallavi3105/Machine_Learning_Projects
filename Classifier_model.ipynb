{
  "nbformat": 4,
  "nbformat_minor": 0,
  "metadata": {
    "colab": {
      "provenance": [],
      "authorship_tag": "ABX9TyMqj5vL6fQUFq92sSxx7niK",
      "include_colab_link": true
    },
    "kernelspec": {
      "name": "python3",
      "display_name": "Python 3"
    },
    "language_info": {
      "name": "python"
    }
  },
  "cells": [
    {
      "cell_type": "markdown",
      "metadata": {
        "id": "view-in-github",
        "colab_type": "text"
      },
      "source": [
        "<a href=\"https://colab.research.google.com/github/pallavi3105/Machine_Learning_Projects/blob/main/Classifier_model.ipynb\" target=\"_parent\"><img src=\"https://colab.research.google.com/assets/colab-badge.svg\" alt=\"Open In Colab\"/></a>"
      ]
    },
    {
      "cell_type": "markdown",
      "source": [
        "**Importing library**"
      ],
      "metadata": {
        "id": "bqYbEaLW0up1"
      }
    },
    {
      "cell_type": "code",
      "execution_count": null,
      "metadata": {
        "id": "qfih6o6OVNGl"
      },
      "outputs": [],
      "source": [
        "import pandas as pd\n",
        "df=pd.read_csv('SMSSpamCollection', sep='\\t', names=['label','text'])"
      ]
    },
    {
      "cell_type": "code",
      "source": [
        "from google.colab import files\n",
        "uploaded=files.upload()"
      ],
      "metadata": {
        "colab": {
          "base_uri": "https://localhost:8080/",
          "height": 73
        },
        "id": "9BpjlQCNQkkG",
        "outputId": "9e787dcc-0058-44d8-c116-09f69353b516"
      },
      "execution_count": null,
      "outputs": [
        {
          "output_type": "display_data",
          "data": {
            "text/plain": [
              "<IPython.core.display.HTML object>"
            ],
            "text/html": [
              "\n",
              "     <input type=\"file\" id=\"files-e5c1dcb2-64d8-4b3c-9d95-4b572e32fb2e\" name=\"files[]\" multiple disabled\n",
              "        style=\"border:none\" />\n",
              "     <output id=\"result-e5c1dcb2-64d8-4b3c-9d95-4b572e32fb2e\">\n",
              "      Upload widget is only available when the cell has been executed in the\n",
              "      current browser session. Please rerun this cell to enable.\n",
              "      </output>\n",
              "      <script>// Copyright 2017 Google LLC\n",
              "//\n",
              "// Licensed under the Apache License, Version 2.0 (the \"License\");\n",
              "// you may not use this file except in compliance with the License.\n",
              "// You may obtain a copy of the License at\n",
              "//\n",
              "//      http://www.apache.org/licenses/LICENSE-2.0\n",
              "//\n",
              "// Unless required by applicable law or agreed to in writing, software\n",
              "// distributed under the License is distributed on an \"AS IS\" BASIS,\n",
              "// WITHOUT WARRANTIES OR CONDITIONS OF ANY KIND, either express or implied.\n",
              "// See the License for the specific language governing permissions and\n",
              "// limitations under the License.\n",
              "\n",
              "/**\n",
              " * @fileoverview Helpers for google.colab Python module.\n",
              " */\n",
              "(function(scope) {\n",
              "function span(text, styleAttributes = {}) {\n",
              "  const element = document.createElement('span');\n",
              "  element.textContent = text;\n",
              "  for (const key of Object.keys(styleAttributes)) {\n",
              "    element.style[key] = styleAttributes[key];\n",
              "  }\n",
              "  return element;\n",
              "}\n",
              "\n",
              "// Max number of bytes which will be uploaded at a time.\n",
              "const MAX_PAYLOAD_SIZE = 100 * 1024;\n",
              "\n",
              "function _uploadFiles(inputId, outputId) {\n",
              "  const steps = uploadFilesStep(inputId, outputId);\n",
              "  const outputElement = document.getElementById(outputId);\n",
              "  // Cache steps on the outputElement to make it available for the next call\n",
              "  // to uploadFilesContinue from Python.\n",
              "  outputElement.steps = steps;\n",
              "\n",
              "  return _uploadFilesContinue(outputId);\n",
              "}\n",
              "\n",
              "// This is roughly an async generator (not supported in the browser yet),\n",
              "// where there are multiple asynchronous steps and the Python side is going\n",
              "// to poll for completion of each step.\n",
              "// This uses a Promise to block the python side on completion of each step,\n",
              "// then passes the result of the previous step as the input to the next step.\n",
              "function _uploadFilesContinue(outputId) {\n",
              "  const outputElement = document.getElementById(outputId);\n",
              "  const steps = outputElement.steps;\n",
              "\n",
              "  const next = steps.next(outputElement.lastPromiseValue);\n",
              "  return Promise.resolve(next.value.promise).then((value) => {\n",
              "    // Cache the last promise value to make it available to the next\n",
              "    // step of the generator.\n",
              "    outputElement.lastPromiseValue = value;\n",
              "    return next.value.response;\n",
              "  });\n",
              "}\n",
              "\n",
              "/**\n",
              " * Generator function which is called between each async step of the upload\n",
              " * process.\n",
              " * @param {string} inputId Element ID of the input file picker element.\n",
              " * @param {string} outputId Element ID of the output display.\n",
              " * @return {!Iterable<!Object>} Iterable of next steps.\n",
              " */\n",
              "function* uploadFilesStep(inputId, outputId) {\n",
              "  const inputElement = document.getElementById(inputId);\n",
              "  inputElement.disabled = false;\n",
              "\n",
              "  const outputElement = document.getElementById(outputId);\n",
              "  outputElement.innerHTML = '';\n",
              "\n",
              "  const pickedPromise = new Promise((resolve) => {\n",
              "    inputElement.addEventListener('change', (e) => {\n",
              "      resolve(e.target.files);\n",
              "    });\n",
              "  });\n",
              "\n",
              "  const cancel = document.createElement('button');\n",
              "  inputElement.parentElement.appendChild(cancel);\n",
              "  cancel.textContent = 'Cancel upload';\n",
              "  const cancelPromise = new Promise((resolve) => {\n",
              "    cancel.onclick = () => {\n",
              "      resolve(null);\n",
              "    };\n",
              "  });\n",
              "\n",
              "  // Wait for the user to pick the files.\n",
              "  const files = yield {\n",
              "    promise: Promise.race([pickedPromise, cancelPromise]),\n",
              "    response: {\n",
              "      action: 'starting',\n",
              "    }\n",
              "  };\n",
              "\n",
              "  cancel.remove();\n",
              "\n",
              "  // Disable the input element since further picks are not allowed.\n",
              "  inputElement.disabled = true;\n",
              "\n",
              "  if (!files) {\n",
              "    return {\n",
              "      response: {\n",
              "        action: 'complete',\n",
              "      }\n",
              "    };\n",
              "  }\n",
              "\n",
              "  for (const file of files) {\n",
              "    const li = document.createElement('li');\n",
              "    li.append(span(file.name, {fontWeight: 'bold'}));\n",
              "    li.append(span(\n",
              "        `(${file.type || 'n/a'}) - ${file.size} bytes, ` +\n",
              "        `last modified: ${\n",
              "            file.lastModifiedDate ? file.lastModifiedDate.toLocaleDateString() :\n",
              "                                    'n/a'} - `));\n",
              "    const percent = span('0% done');\n",
              "    li.appendChild(percent);\n",
              "\n",
              "    outputElement.appendChild(li);\n",
              "\n",
              "    const fileDataPromise = new Promise((resolve) => {\n",
              "      const reader = new FileReader();\n",
              "      reader.onload = (e) => {\n",
              "        resolve(e.target.result);\n",
              "      };\n",
              "      reader.readAsArrayBuffer(file);\n",
              "    });\n",
              "    // Wait for the data to be ready.\n",
              "    let fileData = yield {\n",
              "      promise: fileDataPromise,\n",
              "      response: {\n",
              "        action: 'continue',\n",
              "      }\n",
              "    };\n",
              "\n",
              "    // Use a chunked sending to avoid message size limits. See b/62115660.\n",
              "    let position = 0;\n",
              "    do {\n",
              "      const length = Math.min(fileData.byteLength - position, MAX_PAYLOAD_SIZE);\n",
              "      const chunk = new Uint8Array(fileData, position, length);\n",
              "      position += length;\n",
              "\n",
              "      const base64 = btoa(String.fromCharCode.apply(null, chunk));\n",
              "      yield {\n",
              "        response: {\n",
              "          action: 'append',\n",
              "          file: file.name,\n",
              "          data: base64,\n",
              "        },\n",
              "      };\n",
              "\n",
              "      let percentDone = fileData.byteLength === 0 ?\n",
              "          100 :\n",
              "          Math.round((position / fileData.byteLength) * 100);\n",
              "      percent.textContent = `${percentDone}% done`;\n",
              "\n",
              "    } while (position < fileData.byteLength);\n",
              "  }\n",
              "\n",
              "  // All done.\n",
              "  yield {\n",
              "    response: {\n",
              "      action: 'complete',\n",
              "    }\n",
              "  };\n",
              "}\n",
              "\n",
              "scope.google = scope.google || {};\n",
              "scope.google.colab = scope.google.colab || {};\n",
              "scope.google.colab._files = {\n",
              "  _uploadFiles,\n",
              "  _uploadFilesContinue,\n",
              "};\n",
              "})(self);\n",
              "</script> "
            ]
          },
          "metadata": {}
        },
        {
          "output_type": "stream",
          "name": "stdout",
          "text": [
            "Saving SMSSpamCollection to SMSSpamCollection\n"
          ]
        }
      ]
    },
    {
      "cell_type": "code",
      "source": [
        "df"
      ],
      "metadata": {
        "colab": {
          "base_uri": "https://localhost:8080/",
          "height": 424
        },
        "id": "FP78CGhvXOUk",
        "outputId": "6ff1e5f6-2fe1-482f-f163-4108ca877f96"
      },
      "execution_count": null,
      "outputs": [
        {
          "output_type": "execute_result",
          "data": {
            "text/plain": [
              "     label                                               text\n",
              "0      ham  Go until jurong point, crazy.. Available only ...\n",
              "1      ham                      Ok lar... Joking wif u oni...\n",
              "2     spam  Free entry in 2 a wkly comp to win FA Cup fina...\n",
              "3      ham  U dun say so early hor... U c already then say...\n",
              "4      ham  Nah I don't think he goes to usf, he lives aro...\n",
              "...    ...                                                ...\n",
              "5567  spam  This is the 2nd time we have tried 2 contact u...\n",
              "5568   ham               Will ü b going to esplanade fr home?\n",
              "5569   ham  Pity, * was in mood for that. So...any other s...\n",
              "5570   ham  The guy did some bitching but I acted like i'd...\n",
              "5571   ham                         Rofl. Its true to its name\n",
              "\n",
              "[5572 rows x 2 columns]"
            ],
            "text/html": [
              "\n",
              "  <div id=\"df-da3f9f1f-b739-43e6-91c4-486fb93c360d\">\n",
              "    <div class=\"colab-df-container\">\n",
              "      <div>\n",
              "<style scoped>\n",
              "    .dataframe tbody tr th:only-of-type {\n",
              "        vertical-align: middle;\n",
              "    }\n",
              "\n",
              "    .dataframe tbody tr th {\n",
              "        vertical-align: top;\n",
              "    }\n",
              "\n",
              "    .dataframe thead th {\n",
              "        text-align: right;\n",
              "    }\n",
              "</style>\n",
              "<table border=\"1\" class=\"dataframe\">\n",
              "  <thead>\n",
              "    <tr style=\"text-align: right;\">\n",
              "      <th></th>\n",
              "      <th>label</th>\n",
              "      <th>text</th>\n",
              "    </tr>\n",
              "  </thead>\n",
              "  <tbody>\n",
              "    <tr>\n",
              "      <th>0</th>\n",
              "      <td>ham</td>\n",
              "      <td>Go until jurong point, crazy.. Available only ...</td>\n",
              "    </tr>\n",
              "    <tr>\n",
              "      <th>1</th>\n",
              "      <td>ham</td>\n",
              "      <td>Ok lar... Joking wif u oni...</td>\n",
              "    </tr>\n",
              "    <tr>\n",
              "      <th>2</th>\n",
              "      <td>spam</td>\n",
              "      <td>Free entry in 2 a wkly comp to win FA Cup fina...</td>\n",
              "    </tr>\n",
              "    <tr>\n",
              "      <th>3</th>\n",
              "      <td>ham</td>\n",
              "      <td>U dun say so early hor... U c already then say...</td>\n",
              "    </tr>\n",
              "    <tr>\n",
              "      <th>4</th>\n",
              "      <td>ham</td>\n",
              "      <td>Nah I don't think he goes to usf, he lives aro...</td>\n",
              "    </tr>\n",
              "    <tr>\n",
              "      <th>...</th>\n",
              "      <td>...</td>\n",
              "      <td>...</td>\n",
              "    </tr>\n",
              "    <tr>\n",
              "      <th>5567</th>\n",
              "      <td>spam</td>\n",
              "      <td>This is the 2nd time we have tried 2 contact u...</td>\n",
              "    </tr>\n",
              "    <tr>\n",
              "      <th>5568</th>\n",
              "      <td>ham</td>\n",
              "      <td>Will ü b going to esplanade fr home?</td>\n",
              "    </tr>\n",
              "    <tr>\n",
              "      <th>5569</th>\n",
              "      <td>ham</td>\n",
              "      <td>Pity, * was in mood for that. So...any other s...</td>\n",
              "    </tr>\n",
              "    <tr>\n",
              "      <th>5570</th>\n",
              "      <td>ham</td>\n",
              "      <td>The guy did some bitching but I acted like i'd...</td>\n",
              "    </tr>\n",
              "    <tr>\n",
              "      <th>5571</th>\n",
              "      <td>ham</td>\n",
              "      <td>Rofl. Its true to its name</td>\n",
              "    </tr>\n",
              "  </tbody>\n",
              "</table>\n",
              "<p>5572 rows × 2 columns</p>\n",
              "</div>\n",
              "      <button class=\"colab-df-convert\" onclick=\"convertToInteractive('df-da3f9f1f-b739-43e6-91c4-486fb93c360d')\"\n",
              "              title=\"Convert this dataframe to an interactive table.\"\n",
              "              style=\"display:none;\">\n",
              "        \n",
              "  <svg xmlns=\"http://www.w3.org/2000/svg\" height=\"24px\"viewBox=\"0 0 24 24\"\n",
              "       width=\"24px\">\n",
              "    <path d=\"M0 0h24v24H0V0z\" fill=\"none\"/>\n",
              "    <path d=\"M18.56 5.44l.94 2.06.94-2.06 2.06-.94-2.06-.94-.94-2.06-.94 2.06-2.06.94zm-11 1L8.5 8.5l.94-2.06 2.06-.94-2.06-.94L8.5 2.5l-.94 2.06-2.06.94zm10 10l.94 2.06.94-2.06 2.06-.94-2.06-.94-.94-2.06-.94 2.06-2.06.94z\"/><path d=\"M17.41 7.96l-1.37-1.37c-.4-.4-.92-.59-1.43-.59-.52 0-1.04.2-1.43.59L10.3 9.45l-7.72 7.72c-.78.78-.78 2.05 0 2.83L4 21.41c.39.39.9.59 1.41.59.51 0 1.02-.2 1.41-.59l7.78-7.78 2.81-2.81c.8-.78.8-2.07 0-2.86zM5.41 20L4 18.59l7.72-7.72 1.47 1.35L5.41 20z\"/>\n",
              "  </svg>\n",
              "      </button>\n",
              "      \n",
              "  <style>\n",
              "    .colab-df-container {\n",
              "      display:flex;\n",
              "      flex-wrap:wrap;\n",
              "      gap: 12px;\n",
              "    }\n",
              "\n",
              "    .colab-df-convert {\n",
              "      background-color: #E8F0FE;\n",
              "      border: none;\n",
              "      border-radius: 50%;\n",
              "      cursor: pointer;\n",
              "      display: none;\n",
              "      fill: #1967D2;\n",
              "      height: 32px;\n",
              "      padding: 0 0 0 0;\n",
              "      width: 32px;\n",
              "    }\n",
              "\n",
              "    .colab-df-convert:hover {\n",
              "      background-color: #E2EBFA;\n",
              "      box-shadow: 0px 1px 2px rgba(60, 64, 67, 0.3), 0px 1px 3px 1px rgba(60, 64, 67, 0.15);\n",
              "      fill: #174EA6;\n",
              "    }\n",
              "\n",
              "    [theme=dark] .colab-df-convert {\n",
              "      background-color: #3B4455;\n",
              "      fill: #D2E3FC;\n",
              "    }\n",
              "\n",
              "    [theme=dark] .colab-df-convert:hover {\n",
              "      background-color: #434B5C;\n",
              "      box-shadow: 0px 1px 3px 1px rgba(0, 0, 0, 0.15);\n",
              "      filter: drop-shadow(0px 1px 2px rgba(0, 0, 0, 0.3));\n",
              "      fill: #FFFFFF;\n",
              "    }\n",
              "  </style>\n",
              "\n",
              "      <script>\n",
              "        const buttonEl =\n",
              "          document.querySelector('#df-da3f9f1f-b739-43e6-91c4-486fb93c360d button.colab-df-convert');\n",
              "        buttonEl.style.display =\n",
              "          google.colab.kernel.accessAllowed ? 'block' : 'none';\n",
              "\n",
              "        async function convertToInteractive(key) {\n",
              "          const element = document.querySelector('#df-da3f9f1f-b739-43e6-91c4-486fb93c360d');\n",
              "          const dataTable =\n",
              "            await google.colab.kernel.invokeFunction('convertToInteractive',\n",
              "                                                     [key], {});\n",
              "          if (!dataTable) return;\n",
              "\n",
              "          const docLinkHtml = 'Like what you see? Visit the ' +\n",
              "            '<a target=\"_blank\" href=https://colab.research.google.com/notebooks/data_table.ipynb>data table notebook</a>'\n",
              "            + ' to learn more about interactive tables.';\n",
              "          element.innerHTML = '';\n",
              "          dataTable['output_type'] = 'display_data';\n",
              "          await google.colab.output.renderOutput(dataTable, element);\n",
              "          const docLink = document.createElement('div');\n",
              "          docLink.innerHTML = docLinkHtml;\n",
              "          element.appendChild(docLink);\n",
              "        }\n",
              "      </script>\n",
              "    </div>\n",
              "  </div>\n",
              "  "
            ]
          },
          "metadata": {},
          "execution_count": 102
        }
      ]
    },
    {
      "cell_type": "markdown",
      "source": [
        "Natural Language Toolkit (NLTK) is a platform used for building Python programs that work with human language data for applying in statistical natural language processing (NLP)"
      ],
      "metadata": {
        "id": "3L7m2zQ50WeL"
      }
    },
    {
      "cell_type": "code",
      "source": [
        "!pip install nltk"
      ],
      "metadata": {
        "colab": {
          "base_uri": "https://localhost:8080/"
        },
        "id": "OnCqWJvRXmWv",
        "outputId": "971e3499-e322-412d-9a1d-3786553cf924"
      },
      "execution_count": null,
      "outputs": [
        {
          "output_type": "stream",
          "name": "stdout",
          "text": [
            "Looking in indexes: https://pypi.org/simple, https://us-python.pkg.dev/colab-wheels/public/simple/\n",
            "Requirement already satisfied: nltk in /usr/local/lib/python3.7/dist-packages (3.7)\n",
            "Requirement already satisfied: joblib in /usr/local/lib/python3.7/dist-packages (from nltk) (1.2.0)\n",
            "Requirement already satisfied: tqdm in /usr/local/lib/python3.7/dist-packages (from nltk) (4.64.1)\n",
            "Requirement already satisfied: click in /usr/local/lib/python3.7/dist-packages (from nltk) (7.1.2)\n",
            "Requirement already satisfied: regex>=2021.8.3 in /usr/local/lib/python3.7/dist-packages (from nltk) (2022.6.2)\n"
          ]
        }
      ]
    },
    {
      "cell_type": "code",
      "source": [
        "import nltk\n",
        "nltk.download('stopwords')\n",
        "nltk.download('punkt')\n"
      ],
      "metadata": {
        "colab": {
          "base_uri": "https://localhost:8080/"
        },
        "id": "yPRx1632Xuvi",
        "outputId": "1a97b2c2-4c33-4f77-9e99-1a91bbeaef11"
      },
      "execution_count": null,
      "outputs": [
        {
          "output_type": "stream",
          "name": "stderr",
          "text": [
            "[nltk_data] Downloading package stopwords to /root/nltk_data...\n",
            "[nltk_data]   Unzipping corpora/stopwords.zip.\n",
            "[nltk_data] Downloading package punkt to /root/nltk_data...\n",
            "[nltk_data]   Unzipping tokenizers/punkt.zip.\n"
          ]
        },
        {
          "output_type": "execute_result",
          "data": {
            "text/plain": [
              "True"
            ]
          },
          "metadata": {},
          "execution_count": 5
        }
      ]
    },
    {
      "cell_type": "code",
      "source": [
        "sent='Hello friends!How are you?'"
      ],
      "metadata": {
        "id": "9OIf1ZvwX9rL"
      },
      "execution_count": null,
      "outputs": []
    },
    {
      "cell_type": "code",
      "source": [
        "sent='Hello friends!How are you?'\n",
        "from nltk.tokenize import word_tokenize\n",
        "word_tokenize(sent)"
      ],
      "metadata": {
        "colab": {
          "base_uri": "https://localhost:8080/"
        },
        "id": "CKdNphZYYD_c",
        "outputId": "8247981a-d3b6-4056-b7e1-af6c14fe7965"
      },
      "execution_count": null,
      "outputs": [
        {
          "output_type": "execute_result",
          "data": {
            "text/plain": [
              "['Hello', 'friends', '!', 'How', 'are', 'you', '?']"
            ]
          },
          "metadata": {},
          "execution_count": 7
        }
      ]
    },
    {
      "cell_type": "code",
      "source": [
        "from nltk.corpus import stopwords\n",
        "swords=stopwords.words('english')"
      ],
      "metadata": {
        "id": "bld5AbTyYri7"
      },
      "execution_count": null,
      "outputs": []
    },
    {
      "cell_type": "code",
      "source": [
        "from google.colab import files\n",
        "uploaded=files.upload()"
      ],
      "metadata": {
        "colab": {
          "base_uri": "https://localhost:8080/",
          "height": 73
        },
        "id": "DW3fOH8YWjha",
        "outputId": "15b771dc-d713-488e-e9a7-a588bed12d43"
      },
      "execution_count": null,
      "outputs": [
        {
          "output_type": "display_data",
          "data": {
            "text/plain": [
              "<IPython.core.display.HTML object>"
            ],
            "text/html": [
              "\n",
              "     <input type=\"file\" id=\"files-f7f74036-694a-49b6-9374-7e35cf8d6e97\" name=\"files[]\" multiple disabled\n",
              "        style=\"border:none\" />\n",
              "     <output id=\"result-f7f74036-694a-49b6-9374-7e35cf8d6e97\">\n",
              "      Upload widget is only available when the cell has been executed in the\n",
              "      current browser session. Please rerun this cell to enable.\n",
              "      </output>\n",
              "      <script>// Copyright 2017 Google LLC\n",
              "//\n",
              "// Licensed under the Apache License, Version 2.0 (the \"License\");\n",
              "// you may not use this file except in compliance with the License.\n",
              "// You may obtain a copy of the License at\n",
              "//\n",
              "//      http://www.apache.org/licenses/LICENSE-2.0\n",
              "//\n",
              "// Unless required by applicable law or agreed to in writing, software\n",
              "// distributed under the License is distributed on an \"AS IS\" BASIS,\n",
              "// WITHOUT WARRANTIES OR CONDITIONS OF ANY KIND, either express or implied.\n",
              "// See the License for the specific language governing permissions and\n",
              "// limitations under the License.\n",
              "\n",
              "/**\n",
              " * @fileoverview Helpers for google.colab Python module.\n",
              " */\n",
              "(function(scope) {\n",
              "function span(text, styleAttributes = {}) {\n",
              "  const element = document.createElement('span');\n",
              "  element.textContent = text;\n",
              "  for (const key of Object.keys(styleAttributes)) {\n",
              "    element.style[key] = styleAttributes[key];\n",
              "  }\n",
              "  return element;\n",
              "}\n",
              "\n",
              "// Max number of bytes which will be uploaded at a time.\n",
              "const MAX_PAYLOAD_SIZE = 100 * 1024;\n",
              "\n",
              "function _uploadFiles(inputId, outputId) {\n",
              "  const steps = uploadFilesStep(inputId, outputId);\n",
              "  const outputElement = document.getElementById(outputId);\n",
              "  // Cache steps on the outputElement to make it available for the next call\n",
              "  // to uploadFilesContinue from Python.\n",
              "  outputElement.steps = steps;\n",
              "\n",
              "  return _uploadFilesContinue(outputId);\n",
              "}\n",
              "\n",
              "// This is roughly an async generator (not supported in the browser yet),\n",
              "// where there are multiple asynchronous steps and the Python side is going\n",
              "// to poll for completion of each step.\n",
              "// This uses a Promise to block the python side on completion of each step,\n",
              "// then passes the result of the previous step as the input to the next step.\n",
              "function _uploadFilesContinue(outputId) {\n",
              "  const outputElement = document.getElementById(outputId);\n",
              "  const steps = outputElement.steps;\n",
              "\n",
              "  const next = steps.next(outputElement.lastPromiseValue);\n",
              "  return Promise.resolve(next.value.promise).then((value) => {\n",
              "    // Cache the last promise value to make it available to the next\n",
              "    // step of the generator.\n",
              "    outputElement.lastPromiseValue = value;\n",
              "    return next.value.response;\n",
              "  });\n",
              "}\n",
              "\n",
              "/**\n",
              " * Generator function which is called between each async step of the upload\n",
              " * process.\n",
              " * @param {string} inputId Element ID of the input file picker element.\n",
              " * @param {string} outputId Element ID of the output display.\n",
              " * @return {!Iterable<!Object>} Iterable of next steps.\n",
              " */\n",
              "function* uploadFilesStep(inputId, outputId) {\n",
              "  const inputElement = document.getElementById(inputId);\n",
              "  inputElement.disabled = false;\n",
              "\n",
              "  const outputElement = document.getElementById(outputId);\n",
              "  outputElement.innerHTML = '';\n",
              "\n",
              "  const pickedPromise = new Promise((resolve) => {\n",
              "    inputElement.addEventListener('change', (e) => {\n",
              "      resolve(e.target.files);\n",
              "    });\n",
              "  });\n",
              "\n",
              "  const cancel = document.createElement('button');\n",
              "  inputElement.parentElement.appendChild(cancel);\n",
              "  cancel.textContent = 'Cancel upload';\n",
              "  const cancelPromise = new Promise((resolve) => {\n",
              "    cancel.onclick = () => {\n",
              "      resolve(null);\n",
              "    };\n",
              "  });\n",
              "\n",
              "  // Wait for the user to pick the files.\n",
              "  const files = yield {\n",
              "    promise: Promise.race([pickedPromise, cancelPromise]),\n",
              "    response: {\n",
              "      action: 'starting',\n",
              "    }\n",
              "  };\n",
              "\n",
              "  cancel.remove();\n",
              "\n",
              "  // Disable the input element since further picks are not allowed.\n",
              "  inputElement.disabled = true;\n",
              "\n",
              "  if (!files) {\n",
              "    return {\n",
              "      response: {\n",
              "        action: 'complete',\n",
              "      }\n",
              "    };\n",
              "  }\n",
              "\n",
              "  for (const file of files) {\n",
              "    const li = document.createElement('li');\n",
              "    li.append(span(file.name, {fontWeight: 'bold'}));\n",
              "    li.append(span(\n",
              "        `(${file.type || 'n/a'}) - ${file.size} bytes, ` +\n",
              "        `last modified: ${\n",
              "            file.lastModifiedDate ? file.lastModifiedDate.toLocaleDateString() :\n",
              "                                    'n/a'} - `));\n",
              "    const percent = span('0% done');\n",
              "    li.appendChild(percent);\n",
              "\n",
              "    outputElement.appendChild(li);\n",
              "\n",
              "    const fileDataPromise = new Promise((resolve) => {\n",
              "      const reader = new FileReader();\n",
              "      reader.onload = (e) => {\n",
              "        resolve(e.target.result);\n",
              "      };\n",
              "      reader.readAsArrayBuffer(file);\n",
              "    });\n",
              "    // Wait for the data to be ready.\n",
              "    let fileData = yield {\n",
              "      promise: fileDataPromise,\n",
              "      response: {\n",
              "        action: 'continue',\n",
              "      }\n",
              "    };\n",
              "\n",
              "    // Use a chunked sending to avoid message size limits. See b/62115660.\n",
              "    let position = 0;\n",
              "    do {\n",
              "      const length = Math.min(fileData.byteLength - position, MAX_PAYLOAD_SIZE);\n",
              "      const chunk = new Uint8Array(fileData, position, length);\n",
              "      position += length;\n",
              "\n",
              "      const base64 = btoa(String.fromCharCode.apply(null, chunk));\n",
              "      yield {\n",
              "        response: {\n",
              "          action: 'append',\n",
              "          file: file.name,\n",
              "          data: base64,\n",
              "        },\n",
              "      };\n",
              "\n",
              "      let percentDone = fileData.byteLength === 0 ?\n",
              "          100 :\n",
              "          Math.round((position / fileData.byteLength) * 100);\n",
              "      percent.textContent = `${percentDone}% done`;\n",
              "\n",
              "    } while (position < fileData.byteLength);\n",
              "  }\n",
              "\n",
              "  // All done.\n",
              "  yield {\n",
              "    response: {\n",
              "      action: 'complete',\n",
              "    }\n",
              "  };\n",
              "}\n",
              "\n",
              "scope.google = scope.google || {};\n",
              "scope.google.colab = scope.google.colab || {};\n",
              "scope.google.colab._files = {\n",
              "  _uploadFiles,\n",
              "  _uploadFilesContinue,\n",
              "};\n",
              "})(self);\n",
              "</script> "
            ]
          },
          "metadata": {}
        },
        {
          "output_type": "stream",
          "name": "stdout",
          "text": [
            "Saving SMSSpamCollection to SMSSpamCollection\n"
          ]
        }
      ]
    },
    {
      "cell_type": "code",
      "source": [
        "clean=[word for word in word_tokenize(sent) if word not in swords]"
      ],
      "metadata": {
        "id": "r1v1VeMuY9pD"
      },
      "execution_count": null,
      "outputs": []
    },
    {
      "cell_type": "code",
      "source": [
        "clean"
      ],
      "metadata": {
        "colab": {
          "base_uri": "https://localhost:8080/"
        },
        "id": "VHlzZQPlZIs6",
        "outputId": "21428196-ce49-4e48-e9ef-8f4e6803a142"
      },
      "execution_count": null,
      "outputs": [
        {
          "output_type": "execute_result",
          "data": {
            "text/plain": [
              "['hello', 'friend', '!', 'how', '?']"
            ]
          },
          "metadata": {},
          "execution_count": 11
        }
      ]
    },
    {
      "cell_type": "code",
      "source": [
        "from nltk.stem import PorterStemmer\n",
        "ps=PorterStemmer()\n",
        "clean=[ps.stem(word)for word in word_tokenize(sent) if word not in swords]"
      ],
      "metadata": {
        "id": "W6cGid6eZL9i"
      },
      "execution_count": null,
      "outputs": []
    },
    {
      "cell_type": "code",
      "source": [
        "sent='Hello friends!How are you? We will be learning Python today'"
      ],
      "metadata": {
        "id": "9NFHeZusZcsv"
      },
      "execution_count": null,
      "outputs": []
    },
    {
      "cell_type": "code",
      "source": [
        "def clean_text(sent):\n",
        "  tokens=word_tokenize(sent)\n",
        "  clean=[word for word in tokens if word.isdigit() or word.isalpha()]\n",
        "  clean=[ps.stem(word)for word in clean if word not in swords]\n",
        "  return clean"
      ],
      "metadata": {
        "id": "rlBU846_ZoNs"
      },
      "execution_count": null,
      "outputs": []
    },
    {
      "cell_type": "markdown",
      "source": [
        "#Pre-processing"
      ],
      "metadata": {
        "id": "YTKKt45Lb1z-"
      }
    },
    {
      "cell_type": "code",
      "source": [
        "from sklearn.feature_extraction.text import TfidfVectorizer\n",
        "tfidf=TfidfVectorizer(analyzer=clean_text)\n",
        "x=df['text']\n",
        "y=df['label']\n",
        "x_new=tfidf.fit_transform(x)"
      ],
      "metadata": {
        "id": "6xgAB9Okb4ar"
      },
      "execution_count": null,
      "outputs": []
    },
    {
      "cell_type": "code",
      "source": [
        "x_new.shape"
      ],
      "metadata": {
        "colab": {
          "base_uri": "https://localhost:8080/"
        },
        "id": "iCIvdcZZbJRS",
        "outputId": "159070b2-9e6b-46aa-aa4c-342439083fc4"
      },
      "execution_count": null,
      "outputs": [
        {
          "output_type": "execute_result",
          "data": {
            "text/plain": [
              "(5572, 6513)"
            ]
          },
          "metadata": {},
          "execution_count": 49
        }
      ]
    },
    {
      "cell_type": "code",
      "source": [
        "tfidf.get_feature_names()"
      ],
      "metadata": {
        "colab": {
          "base_uri": "https://localhost:8080/"
        },
        "id": "NepHTSkle7Xp",
        "outputId": "ec1f521e-8e00-4b5c-ef98-535c25112c28"
      },
      "execution_count": null,
      "outputs": [
        {
          "output_type": "stream",
          "name": "stderr",
          "text": [
            "/usr/local/lib/python3.7/dist-packages/sklearn/utils/deprecation.py:87: FutureWarning: Function get_feature_names is deprecated; get_feature_names is deprecated in 1.0 and will be removed in 1.2. Please use get_feature_names_out instead.\n",
            "  warnings.warn(msg, category=FutureWarning)\n"
          ]
        },
        {
          "output_type": "execute_result",
          "data": {
            "text/plain": [
              "['0',\n",
              " '008704050406',\n",
              " '0089',\n",
              " '0121',\n",
              " '01223585236',\n",
              " '01223585334',\n",
              " '0125698789',\n",
              " '02',\n",
              " '0207',\n",
              " '02072069400',\n",
              " '02073162414',\n",
              " '02085076972',\n",
              " '021',\n",
              " '050703',\n",
              " '0578',\n",
              " '06',\n",
              " '07008009200',\n",
              " '07046744435',\n",
              " '07090201529',\n",
              " '07090298926',\n",
              " '07099833605',\n",
              " '07123456789',\n",
              " '0721072',\n",
              " '07732584351',\n",
              " '07734396839',\n",
              " '07742676969',\n",
              " '07753741225',\n",
              " '07786200117',\n",
              " '078',\n",
              " '07801543489',\n",
              " '07808',\n",
              " '07808247860',\n",
              " '07808726822',\n",
              " '07815296484',\n",
              " '07821230901',\n",
              " '078498',\n",
              " '07973788240',\n",
              " '0800',\n",
              " '08000407165',\n",
              " '08000776320',\n",
              " '08000839402',\n",
              " '08000930705',\n",
              " '08000938767',\n",
              " '08001950382',\n",
              " '08002888812',\n",
              " '08002986030',\n",
              " '08002986906',\n",
              " '08002988890',\n",
              " '08006344447',\n",
              " '0808',\n",
              " '08081263000',\n",
              " '08081560665',\n",
              " '0825',\n",
              " '0844',\n",
              " '08448350055',\n",
              " '08448714184',\n",
              " '0845',\n",
              " '08450542832',\n",
              " '08452810071',\n",
              " '08452810073',\n",
              " '0870',\n",
              " '08701213186',\n",
              " '08701237397',\n",
              " '08701417012',\n",
              " '087016248',\n",
              " '08701752560',\n",
              " '087018728737',\n",
              " '0870241182716',\n",
              " '08702490080',\n",
              " '08702840625',\n",
              " '08704439680',\n",
              " '08706091795',\n",
              " '08707500020',\n",
              " '08707509020',\n",
              " '08707808226',\n",
              " '08708034412',\n",
              " '08708800282',\n",
              " '08709222922',\n",
              " '08709501522',\n",
              " '087104711148',\n",
              " '08712101358',\n",
              " '08712103738',\n",
              " '0871212025016',\n",
              " '08712300220',\n",
              " '08712317606',\n",
              " '08712400200',\n",
              " '08712400603',\n",
              " '08712402050',\n",
              " '08712402578',\n",
              " '08712402779',\n",
              " '08712402902',\n",
              " '08712402972',\n",
              " '08712404000',\n",
              " '08712405020',\n",
              " '08712405022',\n",
              " '08712460324',\n",
              " '08712466669',\n",
              " '0871277810810',\n",
              " '08714712379',\n",
              " '08714712388',\n",
              " '08714712394',\n",
              " '08714712412',\n",
              " '08714714011',\n",
              " '08715203028',\n",
              " '08715203649',\n",
              " '08715203652',\n",
              " '08715203656',\n",
              " '08715203677',\n",
              " '08715203685',\n",
              " '08715203694',\n",
              " '08715205273',\n",
              " '08715500022',\n",
              " '08715705022',\n",
              " '08717111821',\n",
              " '08717168528',\n",
              " '08717205546',\n",
              " '08717507382',\n",
              " '08717509990',\n",
              " '08717895698',\n",
              " '08717898035',\n",
              " '08718711108',\n",
              " '08718720201',\n",
              " '08718723815',\n",
              " '08718725756',\n",
              " '08718726270',\n",
              " '08718726970',\n",
              " '08718726971',\n",
              " '08718726978',\n",
              " '087187272008',\n",
              " '08718727868',\n",
              " '08718727870',\n",
              " '08718730555',\n",
              " '08718730666',\n",
              " '08718738001',\n",
              " '08718738002',\n",
              " '08718738034',\n",
              " '08719180219',\n",
              " '08719180248',\n",
              " '08719181259',\n",
              " '08719181503',\n",
              " '08719181513',\n",
              " '08719839835',\n",
              " '08719899217',\n",
              " '08719899229',\n",
              " '08719899230',\n",
              " '09041940223',\n",
              " '09050000301',\n",
              " '09050000332',\n",
              " '09050000460',\n",
              " '09050000555',\n",
              " '09050000878',\n",
              " '09050000928',\n",
              " '09050001295',\n",
              " '09050001808',\n",
              " '09050002311',\n",
              " '09050003091',\n",
              " '09050005321',\n",
              " '09050090044',\n",
              " '09050280520',\n",
              " '09053750005',\n",
              " '09056242159',\n",
              " '09057039994',\n",
              " '09058091854',\n",
              " '09058091870',\n",
              " '09058094454',\n",
              " '09058094455',\n",
              " '09058094507',\n",
              " '09058094565',\n",
              " '09058094583',\n",
              " '09058094594',\n",
              " '09058094597',\n",
              " '09058094599',\n",
              " '09058095107',\n",
              " '09058095201',\n",
              " '09058097189',\n",
              " '09058097218',\n",
              " '09058098002',\n",
              " '09058099801',\n",
              " '09061104276',\n",
              " '09061104283',\n",
              " '09061209465',\n",
              " '09061213237',\n",
              " '09061221061',\n",
              " '09061221066',\n",
              " '09061701444',\n",
              " '09061701461',\n",
              " '09061701851',\n",
              " '09061701939',\n",
              " '09061702893',\n",
              " '09061743386',\n",
              " '09061743806',\n",
              " '09061743810',\n",
              " '09061743811',\n",
              " '09061744553',\n",
              " '09061749602',\n",
              " '09061790121',\n",
              " '09061790125',\n",
              " '09061790126',\n",
              " '09063440451',\n",
              " '09063442151',\n",
              " '09063458130',\n",
              " '0906346330',\n",
              " '09064011000',\n",
              " '09064012103',\n",
              " '09064012160',\n",
              " '09064015307',\n",
              " '09064017295',\n",
              " '09064017305',\n",
              " '09064018838',\n",
              " '09064019014',\n",
              " '09064019788',\n",
              " '09065069120',\n",
              " '09065069154',\n",
              " '09065174042',\n",
              " '09065394514',\n",
              " '09065394973',\n",
              " '09065989180',\n",
              " '09065989182',\n",
              " '09066350750',\n",
              " '09066358152',\n",
              " '09066358361',\n",
              " '09066361921',\n",
              " '09066362206',\n",
              " '09066362220',\n",
              " '09066362231',\n",
              " '09066364311',\n",
              " '09066364349',\n",
              " '09066364589',\n",
              " '09066368327',\n",
              " '09066368470',\n",
              " '09066368753',\n",
              " '09066380611',\n",
              " '09066382422',\n",
              " '09066612661',\n",
              " '09066660100',\n",
              " '09071512432',\n",
              " '09071512433',\n",
              " '09071517866',\n",
              " '09077818151',\n",
              " '09090204448',\n",
              " '09090900040',\n",
              " '09094100151',\n",
              " '09094646631',\n",
              " '09094646899',\n",
              " '09095350301',\n",
              " '09096102316',\n",
              " '09099725823',\n",
              " '09099726395',\n",
              " '09099726429',\n",
              " '09099726481',\n",
              " '09099726553',\n",
              " '09111030116',\n",
              " '09111032124',\n",
              " '09701213186',\n",
              " '1',\n",
              " '10',\n",
              " '100',\n",
              " '1000',\n",
              " '1013',\n",
              " '1030',\n",
              " '11',\n",
              " '1120',\n",
              " '113',\n",
              " '1131',\n",
              " '1146',\n",
              " '116',\n",
              " '1172',\n",
              " '12',\n",
              " '1205',\n",
              " '121',\n",
              " '1225',\n",
              " '123',\n",
              " '128',\n",
              " '130',\n",
              " '1327',\n",
              " '139',\n",
              " '140',\n",
              " '1405',\n",
              " '145',\n",
              " '150',\n",
              " '151',\n",
              " '153',\n",
              " '15541',\n",
              " '16',\n",
              " '1680',\n",
              " '169',\n",
              " '177',\n",
              " '18',\n",
              " '180',\n",
              " '1843',\n",
              " '195',\n",
              " '1956669',\n",
              " '2',\n",
              " '20',\n",
              " '200',\n",
              " '2000',\n",
              " '2003',\n",
              " '2004',\n",
              " '2005',\n",
              " '2006',\n",
              " '2007',\n",
              " '2025050',\n",
              " '21',\n",
              " '21870000',\n",
              " '22',\n",
              " '2309',\n",
              " '24',\n",
              " '25',\n",
              " '250',\n",
              " '255',\n",
              " '2667',\n",
              " '28',\n",
              " '2814032',\n",
              " '3',\n",
              " '30',\n",
              " '300',\n",
              " '3000',\n",
              " '300603',\n",
              " '3030',\n",
              " '31',\n",
              " '3100',\n",
              " '310303',\n",
              " '32000',\n",
              " '3230',\n",
              " '32323',\n",
              " '326',\n",
              " '330',\n",
              " '350',\n",
              " '3650',\n",
              " '36504',\n",
              " '3680',\n",
              " '373',\n",
              " '3750',\n",
              " '37819',\n",
              " '391784',\n",
              " '4',\n",
              " '40',\n",
              " '400',\n",
              " '402',\n",
              " '4041',\n",
              " '40411',\n",
              " '40533',\n",
              " '41685',\n",
              " '41782',\n",
              " '420',\n",
              " '42049',\n",
              " '4217',\n",
              " '42478',\n",
              " '42810',\n",
              " '430',\n",
              " '434',\n",
              " '44',\n",
              " '447801259231',\n",
              " '448712404000',\n",
              " '449050000301',\n",
              " '45',\n",
              " '45239',\n",
              " '47',\n",
              " '4742',\n",
              " '4882',\n",
              " '48922',\n",
              " '49557',\n",
              " '5',\n",
              " '50',\n",
              " '500',\n",
              " '5000',\n",
              " '505060',\n",
              " '515',\n",
              " '5226',\n",
              " '5249',\n",
              " '526',\n",
              " '528',\n",
              " '530',\n",
              " '54',\n",
              " '542',\n",
              " '545',\n",
              " '6',\n",
              " '600',\n",
              " '6031',\n",
              " '61200',\n",
              " '61610',\n",
              " '6230',\n",
              " '62468',\n",
              " '630',\n",
              " '645',\n",
              " '650',\n",
              " '6669',\n",
              " '67441233',\n",
              " '68866',\n",
              " '69200',\n",
              " '69669',\n",
              " '69696',\n",
              " '69698',\n",
              " '69855',\n",
              " '69876',\n",
              " '69888',\n",
              " '69911',\n",
              " '69969',\n",
              " '69988',\n",
              " '7',\n",
              " '700',\n",
              " '7250',\n",
              " '730',\n",
              " '731',\n",
              " '74355',\n",
              " '750',\n",
              " '7548',\n",
              " '7634',\n",
              " '7684',\n",
              " '7732584351',\n",
              " '78',\n",
              " '786',\n",
              " '8',\n",
              " '80',\n",
              " '800',\n",
              " '8000930705',\n",
              " '80062',\n",
              " '8007',\n",
              " '80082',\n",
              " '80086',\n",
              " '80155',\n",
              " '80160',\n",
              " '80182',\n",
              " '8027',\n",
              " '80488',\n",
              " '80608',\n",
              " '8077',\n",
              " '80878',\n",
              " '81010',\n",
              " '81151',\n",
              " '81303',\n",
              " '81618',\n",
              " '82242',\n",
              " '82277',\n",
              " '82324',\n",
              " '82468',\n",
              " '83021',\n",
              " '83039',\n",
              " '83049',\n",
              " '83110',\n",
              " '83118',\n",
              " '83222',\n",
              " '83338',\n",
              " '83355',\n",
              " '83370',\n",
              " '83383',\n",
              " '83435',\n",
              " '83600',\n",
              " '83738',\n",
              " '84',\n",
              " '84025',\n",
              " '84122',\n",
              " '84128',\n",
              " '84199',\n",
              " '84484',\n",
              " '85',\n",
              " '850',\n",
              " '85023',\n",
              " '85069',\n",
              " '85222',\n",
              " '85233',\n",
              " '8552',\n",
              " '85555',\n",
              " '86021',\n",
              " '861',\n",
              " '864233',\n",
              " '86688',\n",
              " '86888',\n",
              " '87021',\n",
              " '87066',\n",
              " '87070',\n",
              " '87077',\n",
              " '87121',\n",
              " '87131',\n",
              " '8714714',\n",
              " '87239',\n",
              " '87575',\n",
              " '8800',\n",
              " '88039',\n",
              " '88066',\n",
              " '88088',\n",
              " '88222',\n",
              " '88600',\n",
              " '88800',\n",
              " '8883',\n",
              " '88877',\n",
              " '88888',\n",
              " '89034',\n",
              " '89070',\n",
              " '89080',\n",
              " '89105',\n",
              " '89123',\n",
              " '89545',\n",
              " '89555',\n",
              " '89693',\n",
              " '89938',\n",
              " '9',\n",
              " '900',\n",
              " '9061100010',\n",
              " '9153',\n",
              " '930',\n",
              " '946',\n",
              " '98321561',\n",
              " '9996',\n",
              " 'a',\n",
              " 'aa',\n",
              " 'aah',\n",
              " 'aaniy',\n",
              " 'aaooooright',\n",
              " 'aathi',\n",
              " 'ab',\n",
              " 'abbey',\n",
              " 'abdomen',\n",
              " 'abeg',\n",
              " 'abel',\n",
              " 'aberdeen',\n",
              " 'abi',\n",
              " 'abil',\n",
              " 'abiola',\n",
              " 'abj',\n",
              " 'abl',\n",
              " 'abnorm',\n",
              " 'about',\n",
              " 'abouta',\n",
              " 'abroad',\n",
              " 'absenc',\n",
              " 'absolut',\n",
              " 'absolutli',\n",
              " 'abstract',\n",
              " 'abt',\n",
              " 'abta',\n",
              " 'aburo',\n",
              " 'abus',\n",
              " 'ac',\n",
              " 'academ',\n",
              " 'acc',\n",
              " 'accent',\n",
              " 'accentur',\n",
              " 'accept',\n",
              " 'access',\n",
              " 'accid',\n",
              " 'accident',\n",
              " 'accommod',\n",
              " 'accommodationvouch',\n",
              " 'accomod',\n",
              " 'accordin',\n",
              " 'accordingli',\n",
              " 'account',\n",
              " 'accumul',\n",
              " 'ach',\n",
              " 'achan',\n",
              " 'achiev',\n",
              " 'acid',\n",
              " 'acknowledg',\n",
              " 'acnt',\n",
              " 'aco',\n",
              " 'across',\n",
              " 'act',\n",
              " 'actin',\n",
              " 'action',\n",
              " 'activ',\n",
              " 'actor',\n",
              " 'actual',\n",
              " 'ad',\n",
              " 'adam',\n",
              " 'add',\n",
              " 'addamsfa',\n",
              " 'addi',\n",
              " 'addict',\n",
              " 'address',\n",
              " 'adewal',\n",
              " 'adi',\n",
              " 'adjust',\n",
              " 'admin',\n",
              " 'administr',\n",
              " 'admir',\n",
              " 'admiss',\n",
              " 'admit',\n",
              " 'ador',\n",
              " 'adp',\n",
              " 'adress',\n",
              " 'adrian',\n",
              " 'adrink',\n",
              " 'adsens',\n",
              " 'adult',\n",
              " 'advanc',\n",
              " 'adventur',\n",
              " 'advic',\n",
              " 'advis',\n",
              " 'advisor',\n",
              " 'aeronaut',\n",
              " 'aeroplan',\n",
              " 'afew',\n",
              " 'affair',\n",
              " 'affect',\n",
              " 'affection',\n",
              " 'affidavit',\n",
              " 'afford',\n",
              " 'afghanistan',\n",
              " 'afraid',\n",
              " 'africa',\n",
              " 'african',\n",
              " 'aft',\n",
              " 'after',\n",
              " 'afternon',\n",
              " 'afternoon',\n",
              " 'afterward',\n",
              " 'aftr',\n",
              " 'ag',\n",
              " 'again',\n",
              " 'against',\n",
              " 'agalla',\n",
              " 'age',\n",
              " 'agenc',\n",
              " 'agent',\n",
              " 'agidhan',\n",
              " 'ago',\n",
              " 'agre',\n",
              " 'ah',\n",
              " 'aha',\n",
              " 'ahead',\n",
              " 'ahhh',\n",
              " 'ahhhh',\n",
              " 'ahmad',\n",
              " 'ahold',\n",
              " 'ai',\n",
              " 'aid',\n",
              " 'aig',\n",
              " 'aight',\n",
              " 'aint',\n",
              " 'air',\n",
              " 'airport',\n",
              " 'airtel',\n",
              " 'aiya',\n",
              " 'aiyah',\n",
              " 'aiyar',\n",
              " 'aiyo',\n",
              " 'ajith',\n",
              " 'ak',\n",
              " 'aka',\n",
              " 'al',\n",
              " 'alaipayuth',\n",
              " 'albi',\n",
              " 'album',\n",
              " 'alcohol',\n",
              " 'aldrin',\n",
              " 'alert',\n",
              " 'alertfrom',\n",
              " 'alett',\n",
              " 'alex',\n",
              " 'alfi',\n",
              " 'algarv',\n",
              " 'algebra',\n",
              " 'algorithm',\n",
              " 'ali',\n",
              " 'alian',\n",
              " 'alibi',\n",
              " 'aliv',\n",
              " 'all',\n",
              " 'allah',\n",
              " 'allalo',\n",
              " 'allday',\n",
              " 'allo',\n",
              " 'allow',\n",
              " 'almost',\n",
              " 'alon',\n",
              " 'along',\n",
              " 'alot',\n",
              " 'alreadi',\n",
              " 'alright',\n",
              " 'alrit',\n",
              " 'also',\n",
              " 'alter',\n",
              " 'although',\n",
              " 'alwa',\n",
              " 'alway',\n",
              " 'alwi',\n",
              " 'am',\n",
              " 'amanda',\n",
              " 'amaz',\n",
              " 'ambiti',\n",
              " 'ambrith',\n",
              " 'american',\n",
              " 'ami',\n",
              " 'amigo',\n",
              " 'amk',\n",
              " 'amma',\n",
              " 'ammo',\n",
              " 'amnow',\n",
              " 'among',\n",
              " 'amongst',\n",
              " 'amor',\n",
              " 'amount',\n",
              " 'amp',\n",
              " 'amplikat',\n",
              " 'amrca',\n",
              " 'amrita',\n",
              " 'amt',\n",
              " 'amus',\n",
              " 'an',\n",
              " 'ana',\n",
              " 'anal',\n",
              " 'analysi',\n",
              " 'anand',\n",
              " 'and',\n",
              " 'anderson',\n",
              " 'andr',\n",
              " 'andro',\n",
              " 'angel',\n",
              " 'angri',\n",
              " 'ani',\n",
              " 'anim',\n",
              " 'anji',\n",
              " 'anjola',\n",
              " 'anna',\n",
              " 'anni',\n",
              " 'anniversari',\n",
              " 'annonc',\n",
              " 'announc',\n",
              " 'annoy',\n",
              " 'annoyin',\n",
              " 'anonym',\n",
              " 'anot',\n",
              " 'anoth',\n",
              " 'ansr',\n",
              " 'answer',\n",
              " 'answerin',\n",
              " 'answr',\n",
              " 'antelop',\n",
              " 'antha',\n",
              " 'anthoni',\n",
              " 'anti',\n",
              " 'antibiot',\n",
              " 'anybodi',\n",
              " 'anyhow',\n",
              " 'anymor',\n",
              " 'anyon',\n",
              " 'anyplac',\n",
              " 'anyth',\n",
              " 'anythi',\n",
              " 'anythin',\n",
              " 'anythingtomorrow',\n",
              " 'anytim',\n",
              " 'anyway',\n",
              " 'anywher',\n",
              " 'aom',\n",
              " 'apart',\n",
              " 'ape',\n",
              " 'apeshit',\n",
              " 'apnt',\n",
              " 'apo',\n",
              " 'apolog',\n",
              " 'apologet',\n",
              " 'apologis',\n",
              " 'app',\n",
              " 'appar',\n",
              " 'appeal',\n",
              " 'appear',\n",
              " 'appendix',\n",
              " 'appi',\n",
              " 'applebe',\n",
              " 'appli',\n",
              " 'applic',\n",
              " 'appoint',\n",
              " 'appreci',\n",
              " 'approach',\n",
              " 'appropri',\n",
              " 'approv',\n",
              " 'approx',\n",
              " 'appt',\n",
              " 'april',\n",
              " 'aproach',\n",
              " 'apt',\n",
              " 'aptitud',\n",
              " 'aquariu',\n",
              " 'ar',\n",
              " 'arab',\n",
              " 'arabian',\n",
              " 'arcad',\n",
              " 'archiv',\n",
              " 'ard',\n",
              " 'are',\n",
              " 'area',\n",
              " 'arent',\n",
              " 'arestaur',\n",
              " 'aretak',\n",
              " 'argentina',\n",
              " 'argh',\n",
              " 'argu',\n",
              " 'argument',\n",
              " 'ari',\n",
              " 'aris',\n",
              " 'arithmet',\n",
              " 'arm',\n",
              " 'armand',\n",
              " 'armenia',\n",
              " 'arng',\n",
              " 'arngd',\n",
              " 'arnt',\n",
              " 'around',\n",
              " 'aroundn',\n",
              " 'arr',\n",
              " 'arrang',\n",
              " 'arrest',\n",
              " 'arriv',\n",
              " 'arrow',\n",
              " 'arsen',\n",
              " 'art',\n",
              " 'arti',\n",
              " 'artist',\n",
              " 'arul',\n",
              " 'arun',\n",
              " 'as',\n",
              " 'asa',\n",
              " 'asap',\n",
              " 'asda',\n",
              " 'ash',\n",
              " 'ashley',\n",
              " 'ashwini',\n",
              " 'asia',\n",
              " 'asian',\n",
              " 'ask',\n",
              " 'askd',\n",
              " 'askin',\n",
              " 'aslamalaikkum',\n",
              " 'asleep',\n",
              " 'aspect',\n",
              " 'ass',\n",
              " 'assess',\n",
              " 'asshol',\n",
              " 'assist',\n",
              " 'associ',\n",
              " 'asssssholeee',\n",
              " 'assum',\n",
              " 'asther',\n",
              " 'asthma',\n",
              " 'astn',\n",
              " 'astoundingli',\n",
              " 'astrolog',\n",
              " 'astronom',\n",
              " 'asu',\n",
              " 'asusu',\n",
              " 'at',\n",
              " 'ate',\n",
              " 'athlet',\n",
              " 'athom',\n",
              " 'atlanta',\n",
              " 'atlast',\n",
              " 'atleast',\n",
              " 'atm',\n",
              " 'atroci',\n",
              " 'attach',\n",
              " 'attack',\n",
              " 'attempt',\n",
              " 'atten',\n",
              " 'attend',\n",
              " 'attent',\n",
              " 'attitud',\n",
              " 'attract',\n",
              " 'attribut',\n",
              " 'auction',\n",
              " 'audiit',\n",
              " 'audit',\n",
              " 'audrey',\n",
              " 'audri',\n",
              " 'august',\n",
              " 'aunt',\n",
              " 'aunti',\n",
              " 'aust',\n",
              " 'australia',\n",
              " 'authoris',\n",
              " 'auto',\n",
              " 'autocorrect',\n",
              " 'av',\n",
              " 'ava',\n",
              " 'avail',\n",
              " 'availa',\n",
              " 'avalarr',\n",
              " 'avatar',\n",
              " 'avbl',\n",
              " 'ave',\n",
              " 'aveng',\n",
              " 'avent',\n",
              " 'avenu',\n",
              " 'avin',\n",
              " 'avo',\n",
              " 'avoid',\n",
              " 'await',\n",
              " 'awak',\n",
              " 'award',\n",
              " 'away',\n",
              " 'awesom',\n",
              " 'awkward',\n",
              " 'aww',\n",
              " 'awww',\n",
              " 'ax',\n",
              " 'axi',\n",
              " 'ay',\n",
              " 'ayn',\n",
              " 'ayo',\n",
              " 'b',\n",
              " 'ba',\n",
              " 'baaaaaaaab',\n",
              " 'baaaaab',\n",
              " 'babe',\n",
              " 'babi',\n",
              " 'babygoodby',\n",
              " 'babyjontet',\n",
              " 'babysit',\n",
              " 'bac',\n",
              " 'back',\n",
              " 'backdoor',\n",
              " 'backward',\n",
              " 'bad',\n",
              " 'badass',\n",
              " 'badli',\n",
              " 'badrith',\n",
              " 'bag',\n",
              " 'bahama',\n",
              " 'baig',\n",
              " 'bailiff',\n",
              " 'bak',\n",
              " 'bakra',\n",
              " 'bakrid',\n",
              " 'balanc',\n",
              " 'ball',\n",
              " 'baller',\n",
              " 'balloon',\n",
              " 'bam',\n",
              " 'bambl',\n",
              " 'ban',\n",
              " 'band',\n",
              " 'bandag',\n",
              " 'bang',\n",
              " 'bangb',\n",
              " 'bangbab',\n",
              " 'bani',\n",
              " 'bank',\n",
              " 'banneduk',\n",
              " 'banter',\n",
              " 'bao',\n",
              " 'bar',\n",
              " 'barbi',\n",
              " 'barcelona',\n",
              " 'bare',\n",
              " 'bari',\n",
              " 'barkley',\n",
              " 'barm',\n",
              " 'barolla',\n",
              " 'barrel',\n",
              " 'barri',\n",
              " 'base',\n",
              " 'bash',\n",
              " 'basic',\n",
              " 'basket',\n",
              " 'basketbal',\n",
              " 'basq',\n",
              " 'bat',\n",
              " 'batch',\n",
              " 'batchlor',\n",
              " 'bath',\n",
              " 'bathroom',\n",
              " 'batsman',\n",
              " 'batt',\n",
              " 'batteri',\n",
              " 'battl',\n",
              " 'bawl',\n",
              " 'bay',\n",
              " 'bb',\n",
              " 'bbc',\n",
              " 'bbd',\n",
              " 'bbdelux',\n",
              " 'bbq',\n",
              " 'bc',\n",
              " 'bcaz',\n",
              " 'bck',\n",
              " 'bcm',\n",
              " 'bcoz',\n",
              " 'bcum',\n",
              " 'bcz',\n",
              " 'bday',\n",
              " 'be',\n",
              " 'beach',\n",
              " 'bead',\n",
              " 'bear',\n",
              " 'beat',\n",
              " 'beauti',\n",
              " 'bec',\n",
              " 'becau',\n",
              " 'becaus',\n",
              " 'becausethey',\n",
              " 'becom',\n",
              " 'becoz',\n",
              " 'becz',\n",
              " 'bed',\n",
              " 'bedbut',\n",
              " 'bedreal',\n",
              " 'bedrm',\n",
              " 'bedroom',\n",
              " 'beeen',\n",
              " ...]"
            ]
          },
          "metadata": {},
          "execution_count": 19
        }
      ]
    },
    {
      "cell_type": "code",
      "source": [
        "y.value_counts()"
      ],
      "metadata": {
        "colab": {
          "base_uri": "https://localhost:8080/"
        },
        "id": "ezUy_dkcf7Mv",
        "outputId": "d6677c4f-194f-48b3-9466-6857d0276aca"
      },
      "execution_count": null,
      "outputs": [
        {
          "output_type": "execute_result",
          "data": {
            "text/plain": [
              "ham     4825\n",
              "spam     747\n",
              "Name: label, dtype: int64"
            ]
          },
          "metadata": {},
          "execution_count": 20
        }
      ]
    },
    {
      "cell_type": "code",
      "source": [
        "#Data Preparation\n",
        "from sklearn.model_selection import train_test_split\n",
        "x_train,x_test,y_train,y_test=train_test_split(x_new,y,random_state=0,test_size=0.25)"
      ],
      "metadata": {
        "id": "gCh_6_jXe7hn"
      },
      "execution_count": null,
      "outputs": []
    },
    {
      "cell_type": "code",
      "source": [
        "x_train.shape"
      ],
      "metadata": {
        "colab": {
          "base_uri": "https://localhost:8080/"
        },
        "id": "rAv9oMoZsqUj",
        "outputId": "3fcaac95-101f-41b3-c9f7-9de3cb00cc55"
      },
      "execution_count": null,
      "outputs": [
        {
          "output_type": "execute_result",
          "data": {
            "text/plain": [
              "(4179, 6513)"
            ]
          },
          "metadata": {},
          "execution_count": 99
        }
      ]
    },
    {
      "cell_type": "code",
      "source": [
        "x_test.shape"
      ],
      "metadata": {
        "colab": {
          "base_uri": "https://localhost:8080/"
        },
        "id": "Rnpb2HpzstpJ",
        "outputId": "be6e1bca-3374-4dbd-d3f7-adfa4286f0af"
      },
      "execution_count": null,
      "outputs": [
        {
          "output_type": "execute_result",
          "data": {
            "text/plain": [
              "(1393, 6513)"
            ]
          },
          "metadata": {},
          "execution_count": 101
        }
      ]
    },
    {
      "cell_type": "code",
      "source": [
        "#1st algorithm..GuassianNB\n",
        "from sklearn.naive_bayes import GaussianNB"
      ],
      "metadata": {
        "id": "ui0pRgZUgrvX"
      },
      "execution_count": null,
      "outputs": []
    },
    {
      "cell_type": "code",
      "source": [
        "nb=GaussianNB()\n",
        "nb.fit(x_train.toarray(),y_train)"
      ],
      "metadata": {
        "colab": {
          "base_uri": "https://localhost:8080/"
        },
        "id": "WaywDPMFkv_c",
        "outputId": "abb0aeae-a752-433e-fb11-bf153e898a2b"
      },
      "execution_count": null,
      "outputs": [
        {
          "output_type": "execute_result",
          "data": {
            "text/plain": [
              "GaussianNB()"
            ]
          },
          "metadata": {},
          "execution_count": 23
        }
      ]
    },
    {
      "cell_type": "code",
      "source": [
        "y_pred=nb.predict(x_test.toarray())\n",
        "y_test.value_counts()"
      ],
      "metadata": {
        "colab": {
          "base_uri": "https://localhost:8080/"
        },
        "id": "pmt1YdHQgfBM",
        "outputId": "5b02fab0-a96e-46a0-a6a6-7e02306126dd"
      },
      "execution_count": null,
      "outputs": [
        {
          "output_type": "execute_result",
          "data": {
            "text/plain": [
              "ham     1208\n",
              "spam     185\n",
              "Name: label, dtype: int64"
            ]
          },
          "metadata": {},
          "execution_count": 24
        }
      ]
    },
    {
      "cell_type": "code",
      "source": [
        "from sklearn.metrics import ConfusionMatrixDisplay\n",
        "ConfusionMatrixDisplay.from_predictions(y_test,y_pred)"
      ],
      "metadata": {
        "colab": {
          "base_uri": "https://localhost:8080/",
          "height": 297
        },
        "id": "jXGcESx6lM1y",
        "outputId": "fa5d79f2-f4cb-4532-e00d-b7174fa98f66"
      },
      "execution_count": null,
      "outputs": [
        {
          "output_type": "execute_result",
          "data": {
            "text/plain": [
              "<sklearn.metrics._plot.confusion_matrix.ConfusionMatrixDisplay at 0x7ff4edbc8ed0>"
            ]
          },
          "metadata": {},
          "execution_count": 25
        },
        {
          "output_type": "display_data",
          "data": {
            "text/plain": [
              "<Figure size 432x288 with 2 Axes>"
            ],
            "image/png": "[encoded data removed]"
          },
          "metadata": {
            "needs_background": "light"
          }
        }
      ]
    },
    {
      "cell_type": "code",
      "source": [
        "from sklearn.metrics import accuracy_score,classification_report\n",
        "print(classification_report(y_test,y_pred))"
      ],
      "metadata": {
        "colab": {
          "base_uri": "https://localhost:8080/"
        },
        "id": "pr-qEXBFlnvP",
        "outputId": "afb7f0a8-9693-43b6-d637-77973bcb55f4"
      },
      "execution_count": null,
      "outputs": [
        {
          "output_type": "stream",
          "name": "stdout",
          "text": [
            "              precision    recall  f1-score   support\n",
            "\n",
            "         ham       0.98      0.87      0.92      1208\n",
            "        spam       0.51      0.89      0.65       185\n",
            "\n",
            "    accuracy                           0.87      1393\n",
            "   macro avg       0.75      0.88      0.79      1393\n",
            "weighted avg       0.92      0.87      0.89      1393\n",
            "\n"
          ]
        }
      ]
    },
    {
      "cell_type": "code",
      "source": [
        "accuracy_score(y_test,y_pred)"
      ],
      "metadata": {
        "colab": {
          "base_uri": "https://localhost:8080/"
        },
        "id": "3bHMxoTml6_t",
        "outputId": "7d756c7f-0af0-4d44-c00c-84f3c240596b"
      },
      "execution_count": null,
      "outputs": [
        {
          "output_type": "execute_result",
          "data": {
            "text/plain": [
              "0.8722182340272793"
            ]
          },
          "metadata": {},
          "execution_count": 27
        }
      ]
    },
    {
      "cell_type": "code",
      "source": [
        "#2nd algorithm\n",
        "from sklearn.ensemble import RandomForestClassifier\n",
        "rf=RandomForestClassifier(random_state=0)\n",
        "rf.fit(x_train,y_train)\n",
        "y_pred=rf.predict(x_test)"
      ],
      "metadata": {
        "id": "FcOHD_OfmD9v"
      },
      "execution_count": null,
      "outputs": []
    },
    {
      "cell_type": "code",
      "source": [
        "ConfusionMatrixDisplay.from_predictions(y_test,y_pred)"
      ],
      "metadata": {
        "colab": {
          "base_uri": "https://localhost:8080/",
          "height": 300
        },
        "id": "bOHGlDfLmiux",
        "outputId": "42d2dbb1-438a-4e6a-f0c7-1c9cbcf470bc"
      },
      "execution_count": null,
      "outputs": [
        {
          "output_type": "execute_result",
          "data": {
            "text/plain": [
              "<sklearn.metrics._plot.confusion_matrix.ConfusionMatrixDisplay at 0x7ff4edae7610>"
            ]
          },
          "metadata": {},
          "execution_count": 29
        },
        {
          "output_type": "display_data",
          "data": {
            "text/plain": [
              "<Figure size 432x288 with 2 Axes>"
            ],
            "image/png": "[encoded data removed]"
          },
          "metadata": {
            "needs_background": "light"
          }
        }
      ]
    },
    {
      "cell_type": "code",
      "source": [
        "from sklearn.metrics import accuracy_score,classification_report\n",
        "print(classification_report(y_test,y_pred))"
      ],
      "metadata": {
        "colab": {
          "base_uri": "https://localhost:8080/"
        },
        "id": "oxZOtFgEm2IJ",
        "outputId": "1411c890-6326-498d-f5af-3cee53970240"
      },
      "execution_count": null,
      "outputs": [
        {
          "output_type": "stream",
          "name": "stdout",
          "text": [
            "              precision    recall  f1-score   support\n",
            "\n",
            "         ham       0.98      1.00      0.99      1208\n",
            "        spam       0.99      0.88      0.93       185\n",
            "\n",
            "    accuracy                           0.98      1393\n",
            "   macro avg       0.99      0.94      0.96      1393\n",
            "weighted avg       0.98      0.98      0.98      1393\n",
            "\n"
          ]
        }
      ]
    },
    {
      "cell_type": "code",
      "source": [
        "accuracy_score(y_test,y_pred)"
      ],
      "metadata": {
        "colab": {
          "base_uri": "https://localhost:8080/"
        },
        "id": "pVbveCxvngJR",
        "outputId": "82fba8ba-c3c9-423b-e5a5-18b53edd6e85"
      },
      "execution_count": null,
      "outputs": [
        {
          "output_type": "execute_result",
          "data": {
            "text/plain": [
              "0.9834888729361091"
            ]
          },
          "metadata": {},
          "execution_count": 31
        }
      ]
    },
    {
      "cell_type": "code",
      "source": [
        "from sklearn.linear_model import LogisticRegression\n",
        "log=LogisticRegression()\n",
        "log.fit(x_train,y_train)\n",
        "y_pred=log.predict(x_test)\n",
        "accuracy_score(y_test,y_pred)"
      ],
      "metadata": {
        "colab": {
          "base_uri": "https://localhost:8080/"
        },
        "id": "50gaiH-lnrBW",
        "outputId": "5d9d9891-8e4d-4058-c387-60e0b9650619"
      },
      "execution_count": null,
      "outputs": [
        {
          "output_type": "execute_result",
          "data": {
            "text/plain": [
              "0.9641062455132807"
            ]
          },
          "metadata": {},
          "execution_count": 32
        }
      ]
    },
    {
      "cell_type": "code",
      "source": [
        "#e Hyperparameter tuning\n",
        "from sklearn.model_selection import GridSearchCV\n",
        "params={\n",
        "    'criterion':['gini','entropy'],\n",
        "    'max_features':['sqrt','log'],\n",
        "    'random_state':[0,1,2,3,4],\n",
        "    'class_weight':['balanced','balanced_subsample']\n",
        "}\n",
        "grid=GridSearchCV(rf,param_grid=params,cv=5,scoring='accuracy')\n",
        "grid.fit(x_train,y_train)\n"
      ],
      "metadata": {
        "colab": {
          "base_uri": "https://localhost:8080/"
        },
        "id": "YG_p1SQMoNWR",
        "outputId": "7cddceb9-ed7d-4ce5-dadd-6ce6d4ea9e02"
      },
      "execution_count": null,
      "outputs": [
        {
          "output_type": "stream",
          "name": "stderr",
          "text": [
            "/usr/local/lib/python3.7/dist-packages/sklearn/model_selection/_validation.py:372: FitFailedWarning: \n",
            "100 fits failed out of a total of 200.\n",
            "The score on these train-test partitions for these parameters will be set to nan.\n",
            "If these failures are not expected, you can try to debug them by setting error_score='raise'.\n",
            "\n",
            "Below are more details about the failures:\n",
            "--------------------------------------------------------------------------------\n",
            "100 fits failed with the following error:\n",
            "Traceback (most recent call last):\n",
            "  File \"/usr/local/lib/python3.7/dist-packages/sklearn/model_selection/_validation.py\", line 680, in _fit_and_score\n",
            "    estimator.fit(X_train, y_train, **fit_params)\n",
            "  File \"/usr/local/lib/python3.7/dist-packages/sklearn/ensemble/_forest.py\", line 467, in fit\n",
            "    for i, t in enumerate(trees)\n",
            "  File \"/usr/local/lib/python3.7/dist-packages/joblib/parallel.py\", line 1085, in __call__\n",
            "    if self.dispatch_one_batch(iterator):\n",
            "  File \"/usr/local/lib/python3.7/dist-packages/joblib/parallel.py\", line 901, in dispatch_one_batch\n",
            "    self._dispatch(tasks)\n",
            "  File \"/usr/local/lib/python3.7/dist-packages/joblib/parallel.py\", line 819, in _dispatch\n",
            "    job = self._backend.apply_async(batch, callback=cb)\n",
            "  File \"/usr/local/lib/python3.7/dist-packages/joblib/_parallel_backends.py\", line 208, in apply_async\n",
            "    result = ImmediateResult(func)\n",
            "  File \"/usr/local/lib/python3.7/dist-packages/joblib/_parallel_backends.py\", line 597, in __init__\n",
            "    self.results = batch()\n",
            "  File \"/usr/local/lib/python3.7/dist-packages/joblib/parallel.py\", line 289, in __call__\n",
            "    for func, args, kwargs in self.items]\n",
            "  File \"/usr/local/lib/python3.7/dist-packages/joblib/parallel.py\", line 289, in <listcomp>\n",
            "    for func, args, kwargs in self.items]\n",
            "  File \"/usr/local/lib/python3.7/dist-packages/sklearn/utils/fixes.py\", line 216, in __call__\n",
            "    return self.function(*args, **kwargs)\n",
            "  File \"/usr/local/lib/python3.7/dist-packages/sklearn/ensemble/_forest.py\", line 185, in _parallel_build_trees\n",
            "    tree.fit(X, y, sample_weight=curr_sample_weight, check_input=False)\n",
            "  File \"/usr/local/lib/python3.7/dist-packages/sklearn/tree/_classes.py\", line 942, in fit\n",
            "    X_idx_sorted=X_idx_sorted,\n",
            "  File \"/usr/local/lib/python3.7/dist-packages/sklearn/tree/_classes.py\", line 282, in fit\n",
            "    \"Invalid value for max_features. \"\n",
            "ValueError: Invalid value for max_features. Allowed string values are 'auto', 'sqrt' or 'log2'.\n",
            "\n",
            "  warnings.warn(some_fits_failed_message, FitFailedWarning)\n",
            "/usr/local/lib/python3.7/dist-packages/sklearn/model_selection/_search.py:972: UserWarning: One or more of the test scores are non-finite: [0.97176375 0.97248259 0.96745867 0.97104776 0.96745953        nan\n",
            "        nan        nan        nan        nan 0.97032834 0.97224393\n",
            " 0.96841504 0.97032948 0.9669802         nan        nan        nan\n",
            "        nan        nan 0.97200212 0.97344011 0.9688935  0.97080795\n",
            " 0.96769905        nan        nan        nan        nan        nan\n",
            " 0.97056757 0.97176518 0.96745838 0.97009054 0.96817695        nan\n",
            "        nan        nan        nan        nan]\n",
            "  category=UserWarning,\n"
          ]
        },
        {
          "output_type": "execute_result",
          "data": {
            "text/plain": [
              "GridSearchCV(cv=5, estimator=RandomForestClassifier(random_state=0),\n",
              "             param_grid={'class_weight': ['balanced', 'balanced_subsample'],\n",
              "                         'criterion': ['gini', 'entropy'],\n",
              "                         'max_features': ['sqrt', 'log'],\n",
              "                         'random_state': [0, 1, 2, 3, 4]},\n",
              "             scoring='accuracy')"
            ]
          },
          "metadata": {},
          "execution_count": 33
        }
      ]
    },
    {
      "cell_type": "code",
      "source": [
        "rf=grid.best_estimator_\n",
        "y_pred=rf.predict(x_test)\n",
        "accuracy_score(y_test,y_pred)\n"
      ],
      "metadata": {
        "colab": {
          "base_uri": "https://localhost:8080/"
        },
        "id": "mfATJSc4rYhq",
        "outputId": "af724e7d-0e19-4040-946e-2fa8d0ccccda"
      },
      "execution_count": null,
      "outputs": [
        {
          "output_type": "execute_result",
          "data": {
            "text/plain": [
              "0.9791816223977028"
            ]
          },
          "metadata": {},
          "execution_count": 97
        }
      ]
    }
  ]
}